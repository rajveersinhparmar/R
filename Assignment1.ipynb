{
 "cells": [
  {
   "cell_type": "markdown",
   "id": "6d756bc1-5a93-4dfd-ac97-1c1b0d5248e3",
   "metadata": {},
   "source": [
    "# 1. Write a R Code to create the following vectors having scaler value u <- 4 and v <- 8"
   ]
  },
  {
   "cell_type": "code",
   "execution_count": 1,
   "id": "a5ca4207-5b47-4f73-ae9c-ef73f5c755df",
   "metadata": {},
   "outputs": [
    {
     "name": "stdout",
     "output_type": "stream",
     "text": [
      "[1] 4\n",
      "[1] 8\n"
     ]
    }
   ],
   "source": [
    "u<-4\n",
    "v<-8\n",
    "\n",
    "print(u)\n",
    "print(v)"
   ]
  },
  {
   "cell_type": "markdown",
   "id": "38ac5a5e-ac2c-4054-a3fd-f86fad8d275c",
   "metadata": {},
   "source": [
    "# Use the elementary arithmetic operators +, -, *, /, and ^ to:\n",
    "# a. add u and v\n",
    "# b. subtract v from u\n",
    "# c. multiply u by v\n",
    "# d. divide u by v\n",
    "# e. raise u to the power of v"
   ]
  },
  {
   "cell_type": "code",
   "execution_count": 2,
   "id": "b10e8836-434d-4716-b237-781108a8b4b4",
   "metadata": {},
   "outputs": [
    {
     "name": "stdout",
     "output_type": "stream",
     "text": [
      "[1] 12\n",
      "[1] -4\n",
      "[1] 32\n",
      "[1] 0.5\n",
      "[1] 65536\n"
     ]
    }
   ],
   "source": [
    "u <- 4\n",
    "v <- 8\n",
    "\n",
    "add_result <- u + v\n",
    "print(add_result)\n",
    "\n",
    "subtract_result <- u - v\n",
    "print(subtract_result)\n",
    "\n",
    "multiply_result <- u * v\n",
    "print(multiply_result)\n",
    "\n",
    "divide_result <- u / v\n",
    "print(divide_result)\n",
    "\n",
    "power_result <- u ^ v\n",
    "print(power_result)"
   ]
  },
  {
   "cell_type": "markdown",
   "id": "643c383f-ddcf-4b25-ac62-4ab530e4e2e3",
   "metadata": {},
   "source": [
    "# 2. Write a R Code to create vector with multiple elements:\n",
    "# u <- c(4, 5, 6)\n",
    "# v <- c(1, 2, 3)\n",
    "# a. add u and v\n",
    "# b. subtract v from u\n",
    "# c. multiply u by v\n",
    "# d. divide u by v\n",
    "# e. raise u to the power of v\n",
    "# how about vectors that differ in length? Let’s find out… Consider the following vectors:\n",
    "# f. u <- c(5, 6, 7, 8)\n",
    "# g. v <- c(2, 3, 4)\n"
   ]
  },
  {
   "cell_type": "code",
   "execution_count": 3,
   "id": "93279106-e069-4736-b75a-290aa7292291",
   "metadata": {},
   "outputs": [
    {
     "name": "stdout",
     "output_type": "stream",
     "text": [
      "[1] 5 7 9\n",
      "[1] 3 3 3\n",
      "[1]  4 10 18\n",
      "[1] 4.0 2.5 2.0\n",
      "[1]   4  25 216\n"
     ]
    },
    {
     "name": "stderr",
     "output_type": "stream",
     "text": [
      "Warning message in u + v:\n",
      "“longer object length is not a multiple of shorter object length”\n"
     ]
    },
    {
     "name": "stdout",
     "output_type": "stream",
     "text": [
      "[1]  7  9 11 10\n"
     ]
    },
    {
     "name": "stderr",
     "output_type": "stream",
     "text": [
      "Warning message in u - v:\n",
      "“longer object length is not a multiple of shorter object length”\n"
     ]
    },
    {
     "name": "stdout",
     "output_type": "stream",
     "text": [
      "[1] 3 3 3 6\n"
     ]
    },
    {
     "name": "stderr",
     "output_type": "stream",
     "text": [
      "Warning message in u * v:\n",
      "“longer object length is not a multiple of shorter object length”\n"
     ]
    },
    {
     "name": "stdout",
     "output_type": "stream",
     "text": [
      "[1] 10 18 28 16\n"
     ]
    },
    {
     "name": "stderr",
     "output_type": "stream",
     "text": [
      "Warning message in u/v:\n",
      "“longer object length is not a multiple of shorter object length”\n"
     ]
    },
    {
     "name": "stdout",
     "output_type": "stream",
     "text": [
      "[1] 2.50 2.00 1.75 4.00\n"
     ]
    },
    {
     "name": "stderr",
     "output_type": "stream",
     "text": [
      "Warning message in u^v:\n",
      "“longer object length is not a multiple of shorter object length”\n"
     ]
    },
    {
     "name": "stdout",
     "output_type": "stream",
     "text": [
      "[1]   25  216 2401   64\n"
     ]
    }
   ],
   "source": [
    "u <- c(4, 5, 6)\n",
    "v <- c(1, 2, 3)\n",
    "\n",
    "add_result <- u + v\n",
    "print(add_result)\n",
    "\n",
    "subtract_result <- u - v\n",
    "print(subtract_result)\n",
    "\n",
    "multiply_result <- u * v\n",
    "print(multiply_result)\n",
    "\n",
    "divide_result <- u / v\n",
    "print(divide_result)\n",
    "\n",
    "power_result <- u ^ v\n",
    "print(power_result)\n",
    "\n",
    "u <- c(5, 6, 7, 8)\n",
    "v <- c(2, 3, 4)\n",
    "\n",
    "add_result_diff_length <- u + v\n",
    "print(add_result_diff_length)\n",
    "\n",
    "subtract_result_diff_length <- u - v\n",
    "print(subtract_result_diff_length)\n",
    "\n",
    "multiply_result_diff_length <- u * v\n",
    "print(multiply_result_diff_length)\n",
    "\n",
    "divide_result_diff_length <- u / v\n",
    "print(divide_result_diff_length)\n",
    "\n",
    "power_result_diff_length <- u ^ v\n",
    "print(power_result_diff_length)\n"
   ]
  },
  {
   "cell_type": "markdown",
   "id": "29c09712-3731-4bf7-ab02-20952624b0cb",
   "metadata": {},
   "source": [
    "# 3. Write a R program to create a vector of numeric, logical and character types of length 6. Also show their datatype using class function\n"
   ]
  },
  {
   "cell_type": "code",
   "execution_count": 4,
   "id": "69d693aa-89db-41e3-9d03-b749d2b41c86",
   "metadata": {},
   "outputs": [
    {
     "name": "stdout",
     "output_type": "stream",
     "text": [
      "[1] 1.5 2.7 3.9 4.2 5.0 6.3\n",
      "[1] \"numeric\"\n",
      "[1]  TRUE FALSE  TRUE  TRUE FALSE FALSE\n",
      "[1] \"logical\"\n",
      "[1] \"apple\"  \"banana\" \"orange\" \"grape\"  \"kiwi\"   \"melon\" \n",
      "[1] \"character\"\n"
     ]
    }
   ],
   "source": [
    "numeric_vector <- c(1.5, 2.7, 3.9, 4.2, 5.0, 6.3)\n",
    "numeric_class <- class(numeric_vector)\n",
    "\n",
    "logical_vector <- c(TRUE, FALSE, TRUE, TRUE, FALSE, FALSE)\n",
    "logical_class <- class(logical_vector)\n",
    "\n",
    "character_vector <- c(\"apple\", \"banana\", \"orange\", \"grape\", \"kiwi\", \"melon\")\n",
    "character_class <- class(character_vector)\n",
    "\n",
    "print(numeric_vector)\n",
    "print(numeric_class)\n",
    "print(logical_vector)\n",
    "print(logical_class)\n",
    "print(character_vector)\n",
    "print(character_class)\n"
   ]
  },
  {
   "cell_type": "markdown",
   "id": "a79a535b-29f1-4888-9cd6-3d27c46d39a5",
   "metadata": {},
   "source": [
    "# 4. Write a R program to find Sum, Minimum, Maximum, Mean and Product of a Vector.\n",
    "# Vector <- c(10,20,30)"
   ]
  },
  {
   "cell_type": "code",
   "execution_count": 5,
   "id": "f709c688-83a9-491f-b278-99db200f9d12",
   "metadata": {},
   "outputs": [
    {
     "name": "stdout",
     "output_type": "stream",
     "text": [
      "[1] \"Sum: 60\"\n",
      "[1] \"Minimum: 10\"\n",
      "[1] \"Maximum: 30\"\n",
      "[1] \"Mean: 20\"\n",
      "[1] \"Product: 6000\"\n"
     ]
    }
   ],
   "source": [
    "Vector <- c(10, 20, 30)\n",
    "\n",
    "vector_sum <- sum(Vector)\n",
    "\n",
    "vector_min <- min(Vector)\n",
    "\n",
    "vector_max <- max(Vector)\n",
    "\n",
    "vector_mean <- mean(Vector)\n",
    "\n",
    "vector_product <- prod(Vector)\n",
    "\n",
    "print(paste(\"Sum:\", vector_sum))\n",
    "print(paste(\"Minimum:\", vector_min))\n",
    "print(paste(\"Maximum:\", vector_max))\n",
    "print(paste(\"Mean:\", vector_mean))\n",
    "print(paste(\"Product:\", vector_product))\n"
   ]
  },
  {
   "cell_type": "markdown",
   "id": "79b1d1c9-796a-48cd-af6c-8b8517d5ec8c",
   "metadata": {},
   "source": [
    "# 5. Write a below R code and Explain the use of ls() function in R name = \"R\";\n",
    "# n1 = 10;\n",
    "# n2 = 0.5\n",
    "# nums = c(10, 20, 30, 40, 50, 60)\n",
    "# print(ls())\n",
    "# print(\"Details of the objects in memory:\")\n",
    "# print(ls.str())"
   ]
  },
  {
   "cell_type": "markdown",
   "id": "327ee4ef-84f9-4f2c-81c9-7ecff86a2311",
   "metadata": {},
   "source": [
    "# The ls() function in R stands for \"list objects.\" It is used to list the names of all objects in the current workspace or environment. When called without any arguments, ls() returns a character vector of the names of all objects currently available in the R workspace.\n",
    "\n",
    "# In the provided code, we have defined several objects: name, n1, n2, and nums. After defining these objects, we use the ls() function to print the names of all objects in the current workspace. The print(ls()) statement will display the names of these objects, which are \"name\", \"n1\", \"n2\", and \"nums\".\n",
    "\n",
    "# Additionally, the ls.str() function can be used to provide more details about the objects in memory. It prints a summary of each object's structure and type. In the code snippet, we use print(ls.str()) to display the details of the objects in the workspace."
   ]
  },
  {
   "cell_type": "markdown",
   "id": "0f5722b4-1781-4603-a2d4-7df03f0085f6",
   "metadata": {},
   "source": [
    "# 6. Write a program to create a sequence of numbers from 20 to 50, find the mean of numbers from 20 to 60 and sum of numbers from 51 to 91.\n"
   ]
  },
  {
   "cell_type": "code",
   "execution_count": 14,
   "id": "6b716357-cd5b-4473-94aa-772ad8282f34",
   "metadata": {},
   "outputs": [
    {
     "name": "stdout",
     "output_type": "stream",
     "text": [
      "[1] \"Sequence from 20 to 50:\"\n",
      " [1] 20 21 22 23 24 25 26 27 28 29 30 31 32 33 34 35 36 37 38 39 40 41 42 43 44\n",
      "[26] 45 46 47 48 49 50\n",
      "[1] \"Mean of numbers from 20 to 60: 40\"\n",
      "[1] \"Sum of numbers from 51 to 91: 2911\"\n"
     ]
    }
   ],
   "source": [
    "sequence_20_to_50 <- seq(20, 50)\n",
    "\n",
    "mean_20_to_60 <- mean(seq(20, 60))\n",
    "\n",
    "sum_51_to_91 <- sum(seq(51, 91))\n",
    "\n",
    "print(\"Sequence from 20 to 50:\")\n",
    "print(sequence_20_to_50)\n",
    "\n",
    "print(paste(\"Mean of numbers from 20 to 60:\", mean_20_to_60))\n",
    "\n",
    "print(paste(\"Sum of numbers from 51 to 91:\", sum_51_to_91))\n"
   ]
  },
  {
   "cell_type": "markdown",
   "id": "da489a8c-65ce-4b21-a09b-4e5d6addbba9",
   "metadata": {},
   "source": [
    "# 7. Write a program to create a vector which contains 10 random integer values between -50 and +50. (Hint : use sample() function to generate random integer)"
   ]
  },
  {
   "cell_type": "code",
   "execution_count": 15,
   "id": "575a0b1e-b3f6-4753-984e-0b4f873f3c53",
   "metadata": {},
   "outputs": [
    {
     "name": "stdout",
     "output_type": "stream",
     "text": [
      " [1] -10  42  37 -31  -3  26 -45  31 -16 -14\n"
     ]
    }
   ],
   "source": [
    "min_value <- -50\n",
    "max_value <- 50\n",
    "\n",
    "\n",
    "random_vector <- sample(min_value:max_value, 10, replace = TRUE)\n",
    "\n",
    "print(random_vector)\n"
   ]
  },
  {
   "cell_type": "markdown",
   "id": "74e916f3-94e3-43a3-9852-a05ae53c9bf8",
   "metadata": {},
   "source": [
    "# 8. Write a program to print the numbers from 1 to 100 and print \"Fizz\" for multiples of 3, print \"Buzz\" for multiples of 5, and print \"FizzBuzz\" for multiples of both Hint: Learn how to create loop from 1 to 100 and if condition to get multiple of 3, 5 and both"
   ]
  },
  {
   "cell_type": "code",
   "execution_count": 9,
   "id": "73eaa673-8413-4143-8e5a-cfe5fe3ed5ad",
   "metadata": {},
   "outputs": [
    {
     "name": "stdout",
     "output_type": "stream",
     "text": [
      "[1] 1\n",
      "[1] 2\n",
      "[1] \"Fizz\"\n",
      "[1] 4\n",
      "[1] \"Buzz\"\n",
      "[1] \"Fizz\"\n",
      "[1] 7\n",
      "[1] 8\n",
      "[1] \"Fizz\"\n",
      "[1] \"Buzz\"\n",
      "[1] 11\n",
      "[1] \"Fizz\"\n",
      "[1] 13\n",
      "[1] 14\n",
      "[1] \"FizzBuzz\"\n",
      "[1] 16\n",
      "[1] 17\n",
      "[1] \"Fizz\"\n",
      "[1] 19\n",
      "[1] \"Buzz\"\n",
      "[1] \"Fizz\"\n",
      "[1] 22\n",
      "[1] 23\n",
      "[1] \"Fizz\"\n",
      "[1] \"Buzz\"\n",
      "[1] 26\n",
      "[1] \"Fizz\"\n",
      "[1] 28\n",
      "[1] 29\n",
      "[1] \"FizzBuzz\"\n",
      "[1] 31\n",
      "[1] 32\n",
      "[1] \"Fizz\"\n",
      "[1] 34\n",
      "[1] \"Buzz\"\n",
      "[1] \"Fizz\"\n",
      "[1] 37\n",
      "[1] 38\n",
      "[1] \"Fizz\"\n",
      "[1] \"Buzz\"\n",
      "[1] 41\n",
      "[1] \"Fizz\"\n",
      "[1] 43\n",
      "[1] 44\n",
      "[1] \"FizzBuzz\"\n",
      "[1] 46\n",
      "[1] 47\n",
      "[1] \"Fizz\"\n",
      "[1] 49\n",
      "[1] \"Buzz\"\n",
      "[1] \"Fizz\"\n",
      "[1] 52\n",
      "[1] 53\n",
      "[1] \"Fizz\"\n",
      "[1] \"Buzz\"\n",
      "[1] 56\n",
      "[1] \"Fizz\"\n",
      "[1] 58\n",
      "[1] 59\n",
      "[1] \"FizzBuzz\"\n",
      "[1] 61\n",
      "[1] 62\n",
      "[1] \"Fizz\"\n",
      "[1] 64\n",
      "[1] \"Buzz\"\n",
      "[1] \"Fizz\"\n",
      "[1] 67\n",
      "[1] 68\n",
      "[1] \"Fizz\"\n",
      "[1] \"Buzz\"\n",
      "[1] 71\n",
      "[1] \"Fizz\"\n",
      "[1] 73\n",
      "[1] 74\n",
      "[1] \"FizzBuzz\"\n",
      "[1] 76\n",
      "[1] 77\n",
      "[1] \"Fizz\"\n",
      "[1] 79\n",
      "[1] \"Buzz\"\n",
      "[1] \"Fizz\"\n",
      "[1] 82\n",
      "[1] 83\n",
      "[1] \"Fizz\"\n",
      "[1] \"Buzz\"\n",
      "[1] 86\n",
      "[1] \"Fizz\"\n",
      "[1] 88\n",
      "[1] 89\n",
      "[1] \"FizzBuzz\"\n",
      "[1] 91\n",
      "[1] 92\n",
      "[1] \"Fizz\"\n",
      "[1] 94\n",
      "[1] \"Buzz\"\n",
      "[1] \"Fizz\"\n",
      "[1] 97\n",
      "[1] 98\n",
      "[1] \"Fizz\"\n",
      "[1] \"Buzz\"\n"
     ]
    }
   ],
   "source": [
    "for (i in 1:100) {\n",
    "  if (i %% 3 == 0 && i %% 5 == 0) {\n",
    "    print(\"FizzBuzz\")\n",
    "  } else if (i %% 3 == 0) {\n",
    "    print(\"Fizz\")\n",
    "  } else if (i %% 5 == 0) {\n",
    "    print(\"Buzz\")\n",
    "  } else {\n",
    "    print(i)\n",
    "  }\n",
    "}\n"
   ]
  },
  {
   "cell_type": "markdown",
   "id": "c822c953-21ed-41bb-80c1-fc42b7f75494",
   "metadata": {},
   "source": [
    "# 9. Demonstrate the use of head() and Tail() in R"
   ]
  },
  {
   "cell_type": "code",
   "execution_count": 13,
   "id": "bc813d60-0e37-4ff1-9287-9dc1caac8540",
   "metadata": {},
   "outputs": [
    {
     "name": "stdout",
     "output_type": "stream",
     "text": [
      "[1] 10 20 30 40 50\n",
      "[1]  60  70  80  90 100\n"
     ]
    }
   ],
   "source": [
    "my_vector <- c(10, 20, 30, 40, 50, 60, 70, 80, 90, 100)\n",
    "\n",
    "\n",
    "head_result <- head(my_vector, 5)\n",
    "print(head_result)\n",
    "\n",
    "\n",
    "tail_result <- tail(my_vector, 5)\n",
    "print(tail_result)\n"
   ]
  },
  {
   "cell_type": "markdown",
   "id": "0379e126-02fc-4c1c-a6ce-44ece32cef77",
   "metadata": {},
   "source": [
    "# 10.Demonstrate the use of Paste(), unique() in R"
   ]
  },
  {
   "cell_type": "code",
   "execution_count": 12,
   "id": "a0d5b967-11df-411e-8d30-f9b3ee2739f2",
   "metadata": {},
   "outputs": [
    {
     "name": "stdout",
     "output_type": "stream",
     "text": [
      "[1] \"apple, banana, orange, apple, grape, banana\"\n",
      "[1] \"apple\"  \"banana\" \"orange\" \"grape\" \n"
     ]
    }
   ],
   "source": [
    "my_vector <- c(\"apple\", \"banana\", \"orange\", \"apple\", \"grape\", \"banana\")\n",
    "\n",
    "concatenated <- paste(my_vector, collapse = \", \")\n",
    "print(concatenated)\n",
    "\n",
    "unique_elements <- unique(my_vector)\n",
    "print(unique_elements)"
   ]
  },
  {
   "cell_type": "code",
   "execution_count": null,
   "id": "847a3224-b018-40ed-acc3-9418a889db4d",
   "metadata": {},
   "outputs": [],
   "source": []
  }
 ],
 "metadata": {
  "kernelspec": {
   "display_name": "R",
   "language": "R",
   "name": "ir"
  },
  "language_info": {
   "codemirror_mode": "r",
   "file_extension": ".r",
   "mimetype": "text/x-r-source",
   "name": "R",
   "pygments_lexer": "r",
   "version": "4.2.2"
  }
 },
 "nbformat": 4,
 "nbformat_minor": 5
}
